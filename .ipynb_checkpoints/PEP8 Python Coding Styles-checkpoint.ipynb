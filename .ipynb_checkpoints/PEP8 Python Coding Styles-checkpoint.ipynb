{
 "cells": [
  {
   "cell_type": "markdown",
   "metadata": {},
   "source": [
    "# Intro\n",
    "Tài liệu này cung cấp coding conventions cho Python code, bao gồm các chuẩn thường áp dụng cho các thư viện Python.\n",
    "Rất nhiều project đã sử dụng chuẩn này để code"
   ]
  },
  {
   "cell_type": "markdown",
   "metadata": {},
   "source": [
    "# Tính nhất quán\n",
    "Hướng dẫn này là về tính nhất quán. Tính nhất quán rất quan trọng khi viết style guide. Tính nhất quán trong một dự án còn quan trọng hơn. Tính nhất quán trong một module hay một function là quan trọng nhất."
   ]
  },
  {
   "cell_type": "markdown",
   "metadata": {},
   "source": [
    "# Code Lay-out"
   ]
  },
  {
   "cell_type": "markdown",
   "metadata": {},
   "source": [
    "## Thụt đầu dòng\n",
    "Sử dụng 4 spaces mỗi level thụt đầu dòng  \n",
    "**Nên**"
   ]
  },
  {
   "cell_type": "code",
   "execution_count": null,
   "metadata": {},
   "outputs": [],
   "source": [
    "# Thêm 4 spaces nữa để phân biệt đối số vs phần còn lại.\n",
    "def long_function_name(\n",
    "        var_one, var_two, var_three,\n",
    "        var_four):\n",
    "    print(var_one)\n",
    "\n",
    "# Căn chỉnh thẳng hàng với đối số ở trên .\n",
    "foo = long_function_name(var_one, var_two,\n",
    "                         var_three, var_four)\n",
    "\n",
    "\n",
    "# Thụt lề như này thì ok, tuy nhiên phải cân đối số lượng đối số, không recommend.\n",
    "foo = long_function_name(\n",
    "    var_one, var_two,\n",
    "    var_three, var_four)"
   ]
  },
  {
   "cell_type": "markdown",
   "metadata": {},
   "source": [
    "**Không nên**"
   ]
  },
  {
   "cell_type": "code",
   "execution_count": null,
   "metadata": {},
   "outputs": [],
   "source": [
    "# Arguments on first line forbidden when not using vertical alignment.\n",
    "foo = long_function_name(var_one, var_two,\n",
    "    var_three, var_four)\n",
    "\n",
    "# Tạo hàm như này ko ok, cân đối số lượng đối số mỗi hàng và cách thêm 4 spaces để phân biệt đối số vs phần xử lý.\n",
    "def long_function_name(\n",
    "    var_one, var_two, var_three,\n",
    "    var_four):\n",
    "    print(var_one)"
   ]
  },
  {
   "cell_type": "markdown",
   "metadata": {},
   "source": [
    "**Tùy chọn**"
   ]
  },
  {
   "cell_type": "code",
   "execution_count": null,
   "metadata": {},
   "outputs": [],
   "source": [
    "# Hanging indents *may* be indented to other than 4 spaces.\n",
    "foo = long_function_name(\n",
    "  var_one, var_two,\n",
    "  var_three, var_four)"
   ]
  },
  {
   "cell_type": "markdown",
   "metadata": {},
   "source": [
    "Trong trường hợp sử dụng conditional như if-statement, thêm 1 level thụt đầu dòng vào. PEP8 không phân biệt kỹ việc thụt đầu dòng ở các câu lệnh **if else** lồng nhau nhưng hãy cố gắng viết code sao cho dễ đọc nhất có thể"
   ]
  },
  {
   "cell_type": "code",
   "execution_count": null,
   "metadata": {},
   "outputs": [],
   "source": [
    "# Không thụt đầu dòng, không recommend.\n",
    "if (this_is_one_thing and\n",
    "    that_is_another_thing):\n",
    "    do_something()\n",
    "\n",
    "# Thêm comment ở bên trong hàm if, cũng được, ít nhất để cho người đọc biết chỗ này làm gì \n",
    "# và vị trí nào kết thúc đối số của hàm if.\n",
    "if (this_is_one_thing and\n",
    "    that_is_another_thing):\n",
    "    # Since both conditions are true, we can frobnicate.\n",
    "    do_something()\n",
    "\n",
    "# Cách này hay nhất, cố gắng thêm 1 level khi các đối số phải xuống dòng.\n",
    "if (this_is_one_thing\n",
    "        and that_is_another_thing):\n",
    "    do_something()"
   ]
  },
  {
   "cell_type": "markdown",
   "metadata": {},
   "source": [
    "Vị trí để đóng dấu ngoặc đơn, ngoặc vuông, ngoặc tròn có thể ở ngay dưới ký tự phía trên, nhưng sẽ đẹp hơn nếu đóng ngoặc thằng hàng với tên biến"
   ]
  },
  {
   "cell_type": "code",
   "execution_count": null,
   "metadata": {},
   "outputs": [],
   "source": [
    "my_list = [\n",
    "    1, 2, 3,\n",
    "    4, 5, 6,\n",
    "    ]\n",
    "result = some_function_that_takes_arguments(\n",
    "    'a', 'b', 'c',\n",
    "    'd', 'e', 'f',\n",
    "    )\n",
    "\n",
    "# Cách ở trên cũng được nhưng ở dưới thì pretty hơn\n",
    "\n",
    "my_list = [\n",
    "    1, 2, 3,\n",
    "    4, 5, 6,\n",
    "]\n",
    "result = some_function_that_takes_arguments(\n",
    "    'a', 'b', 'c',\n",
    "    'd', 'e', 'f',\n",
    ")"
   ]
  },
  {
   "cell_type": "markdown",
   "metadata": {},
   "source": [
    "## Sử dụng Tab hay Spaces\n",
    "Spaces là phương thức thụt đầu dòng prefer hơn  \n",
    "Tab nên sử dụng chỉ với các đoạn code dùng tab để thụt dòng  \n",
    "Python3 không chấp nhận mix Tab và Spaces  \n",
    "Python2 sẽ convert hết sang Spaces khi nó thấy có sự mix giữa Tab và Spaces\n"
   ]
  },
  {
   "cell_type": "markdown",
   "metadata": {},
   "source": [
    "## Số ký tự tối đa của 1 dòng\n",
    "Giới hạn ký tự của 1 dòng là **79 ký tự**  \n",
    "Để code dễ đọc hơn, độ dài tối đa nên là 72 ký tự vì giới hạn này làm cho code dễ đọc hơn trong trường hợp cần code nhiều màn hình hoặc khi cần có 3 màn hình để merge code trên các coding editor như Pycharm  \n",
    "Mặc định trong các coding editor sử dụng 80 ký tự để limit, điều này là không đúng và khiến code khó đọc hơn, nên set lại về 72 ký tự  \n",
    "Một số người (or teams) thích code dài, điều này ok với các đoạn code dài limit là 99 ký tự, nhưng comments hay docstring phải giới hạn trong 72 ký tự  \n",
    "Các thư viện python sử dụng chuẩn 79 ký tự cho code và 72 ký tự cho comments  \n",
    "Khi code quá dài, nên sử dụng dấu gạch chéo ngược **'\\\\'** để xuống dòng"
   ]
  },
  {
   "cell_type": "code",
   "execution_count": null,
   "metadata": {},
   "outputs": [],
   "source": [
    "# Trong trường hợp này nên sử dụng dấu gạch chéo ngược và nên để ở nơi thích hợp cho code dễ đọc\n",
    "with open('/path/to/some/file/you/want/to/read') as file_1, \\\n",
    "     open('/path/to/some/file/being/written', 'w') as file_2:\n",
    "    file_2.write(file_1.read())"
   ]
  },
  {
   "cell_type": "markdown",
   "metadata": {},
   "source": [
    "## Nên xuống dòng trước hay sau một toán tử nhị phân\n",
    "Trong nhiều thập ký, người ta xuống dòng sau các toán tử nhị phân, nhưng có 2 vấn đề xảy ra: các toán tử bị phân tán và mỗi toán tử bị di chuyển khỏi toán hạng của nó, thành ra toán tử và toán hạng lại ở 2 dòng khác nhau, mắt người đọc cần làm việc nhiều hơn khi đọc những đoạn code như vầy, thế nên:"
   ]
  },
  {
   "cell_type": "code",
   "execution_count": null,
   "metadata": {},
   "outputs": [],
   "source": [
    "# Đừng làm như này nữa\n",
    "income = (gross_wages +\n",
    "          taxable_interest +\n",
    "          (dividends - qualified_dividends) -\n",
    "          ira_deduction -\n",
    "          student_loan_interest)\n",
    "\n",
    "# Yes: hãy làm như thế này đi, ban đầu chưa quen những sẽ ok thôi\n",
    "income = (gross_wages\n",
    "          + taxable_interest\n",
    "          + (dividends - qualified_dividends)\n",
    "          - ira_deduction\n",
    "          - student_loan_interest)"
   ]
  },
  {
   "cell_type": "markdown",
   "metadata": {},
   "source": [
    "## Dòng trống\n",
    "Bao quanh function cấp cao nhất và class là 2 dòng trống  \n",
    "Method định nghĩa trong 1 class có 1 dòng trống\n",
    "Các dòng trống có thể sử dụng để phân tách các nhóm function liên quan đến nhau. Có thể bỏ qua dòng trống với nhóm các function không quan trọng  \n",
    "Sử dụng dòng trống trong function để phân biệt các đoạn logic"
   ]
  },
  {
   "cell_type": "markdown",
   "metadata": {},
   "source": [
    "## Chuẩn mã hóa trong code\n",
    "Code Python nên dùng chuẩn UTF-8 để mã hóa (với Python2 là ASCII)\n",
    "Với Python 3.0 và sau này, chuẩn PEP 3131 được đưa ra để follow theo: Tất cả mã hóa trong các thư viện Python chuẩn **bắt buộc** phải sử dụng chuẩn ASCII, và NÊN sử dụng tiếng anh ở bất cứ phần nào (kể cả team không dùng tiếng anh để giao tiếp). Thêm vào đó, comment phải là chuẩn ASCII. Chỉ có ngoại lệ với các test case và tên tác giả là không sử dụng chuẩn ASCII. Các tác giả có tên không dựa trên bàng chữ cái Latinh (latin-1, ISO/IEC 8859-1 character set) PHẢI chung cấp phiên âm tên của họ dựa trên bộ ký tự Latinh  \n",
    "Các Open source được khuyến cáo theo chuẩn trên"
   ]
  },
  {
   "cell_type": "markdown",
   "metadata": {},
   "source": [
    "# Import\n",
    "Import nên để tách dòng"
   ]
  },
  {
   "cell_type": "code",
   "execution_count": null,
   "metadata": {},
   "outputs": [],
   "source": [
    "Yes: import os\n",
    "     import sys\n",
    "\n",
    "No:  import sys, os"
   ]
  },
  {
   "cell_type": "code",
   "execution_count": null,
   "metadata": {},
   "outputs": [],
   "source": [
    "# nhưng thế này thì ok ko vấn đề gì\n",
    "from subprocess import Popen, PIPE"
   ]
  },
  {
   "cell_type": "markdown",
   "metadata": {},
   "source": [
    "Import luôn luôn để đầu file, chỉ sau comment hay đoạn docstrings, và phải trước module chung hoặc biến toàn cục  \n",
    "Import nên được nhóm lại theo thứ tự:\n",
    "* Import thư viện chuẩn (các thư viện của ngôn ngữ python chằng hạn)\n",
    "* Import thư viện của bên thứ 3\n",
    "* Import applications/thư viện riêng trong local do mình viết  \n",
    "Nên thêm dòng trống giữa các nhóm\n",
    "\n",
    "Đường dẫn tuyệt đối được recommend sử dụng, tuy nhiên có thể dùng đường dẫn tương đối trong TH cảm thấy đường dẫn tuyệt đối quá dài ko cần thiết"
   ]
  },
  {
   "cell_type": "code",
   "execution_count": null,
   "metadata": {},
   "outputs": [],
   "source": [
    "# Đường dẫn tuyệt đối\n",
    "import mypkg.sibling\n",
    "from mypkg import sibling\n",
    "from mypkg.sibling import example\n",
    "\n",
    "# Đường dẫn tương đối\n",
    "from . import sibling\n",
    "from .sibling import example"
   ]
  },
  {
   "cell_type": "markdown",
   "metadata": {},
   "source": [
    "Với các thư viện chuẩn, PHẢI sử dụng đường dẫn tuyệt đối\n",
    "\n",
    "Cách import (from module import *) không nên sử dụng bởi vì nó làm cho người đọc thấy khó hiểu, gây nhầm lẫn, chỉ sử dụng trong các trường hợp import cả một bộ function CRUD chuẩn (đủ hàm gồm: list, edit, create, update, ...)"
   ]
  },
  {
   "cell_type": "markdown",
   "metadata": {},
   "source": [
    "## Module có tên có 2 gạch dưới (ví dụ `__all__`, `__version__`, ...)\n",
    "các module này nên được để trước khi import vì python yêu cầu như vầy"
   ]
  },
  {
   "cell_type": "code",
   "execution_count": null,
   "metadata": {},
   "outputs": [],
   "source": [
    "\"\"\"Ví dụ như này.\n",
    "\n",
    "This module does stuff.\n",
    "\"\"\"\n",
    "\n",
    "from __future__ import barry_as_FLUFL\n",
    "\n",
    "__all__ = ['a', 'b', 'c']\n",
    "__version__ = '0.1'\n",
    "__author__ = 'Cardinal Biggles'\n",
    "\n",
    "import os\n",
    "import sys"
   ]
  },
  {
   "cell_type": "markdown",
   "metadata": {},
   "source": [
    "# String Quotes\n",
    "Không có chuẩn chung, viết dễ hiểu là được"
   ]
  },
  {
   "cell_type": "code",
   "execution_count": null,
   "metadata": {},
   "outputs": [],
   "source": []
  },
  {
   "cell_type": "code",
   "execution_count": null,
   "metadata": {},
   "outputs": [],
   "source": []
  }
 ],
 "metadata": {
  "kernelspec": {
   "display_name": "Python 3",
   "language": "python",
   "name": "python3"
  },
  "language_info": {
   "codemirror_mode": {
    "name": "ipython",
    "version": 3
   },
   "file_extension": ".py",
   "mimetype": "text/x-python",
   "name": "python",
   "nbconvert_exporter": "python",
   "pygments_lexer": "ipython3",
   "version": "3.7.0"
  }
 },
 "nbformat": 4,
 "nbformat_minor": 2
}
